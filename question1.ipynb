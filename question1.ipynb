{
  "nbformat": 4,
  "nbformat_minor": 0,
  "metadata": {
    "colab": {
      "name": "question1.ipynb",
      "provenance": [],
      "collapsed_sections": [],
      "authorship_tag": "ABX9TyO4XYBdH0O0khRVxoaYMAsI",
      "include_colab_link": true
    },
    "kernelspec": {
      "name": "python3",
      "display_name": "Python 3"
    }
  },
  "cells": [
    {
      "cell_type": "markdown",
      "metadata": {
        "id": "view-in-github",
        "colab_type": "text"
      },
      "source": [
        "<a href=\"https://colab.research.google.com/github/bookflute/ProgrammingAssignment2/blob/master/question1.ipynb\" target=\"_parent\"><img src=\"https://colab.research.google.com/assets/colab-badge.svg\" alt=\"Open In Colab\"/></a>"
      ]
    },
    {
      "cell_type": "code",
      "metadata": {
        "id": "1gOSmCO1QEEM",
        "colab_type": "code",
        "colab": {}
      },
      "source": [
        "import tensorflow as tf\n",
        "import matplotlib.pyplot as plt\n",
        "import numpy as np\n"
      ],
      "execution_count": 0,
      "outputs": []
    },
    {
      "cell_type": "code",
      "metadata": {
        "id": "hg_FrwIDQRla",
        "colab_type": "code",
        "colab": {}
      },
      "source": [
        "mnist =tf.keras.datasets.mnist\n",
        "\n",
        "(x_train, y_train), (x_test,y_test) = mnist.load_data()\n",
        "x_train, x_test = x_train / 255.0, x_test / 255.0\n",
        "\n"
      ],
      "execution_count": 0,
      "outputs": []
    },
    {
      "cell_type": "code",
      "metadata": {
        "id": "RTNgVlO9RiHP",
        "colab_type": "code",
        "colab": {
          "base_uri": "https://localhost:8080/",
          "height": 51
        },
        "outputId": "e37e9c78-a43c-4ca4-c719-6074c3d156cb"
      },
      "source": [
        "# model with three hidden layers\n",
        "model = tf.keras.Sequential([\n",
        "    tf.keras.layers.Flatten(input_shape=(28, 28, 1)),\n",
        "    tf.keras.layers.Dense(128, activation=tf.nn.relu),\n",
        "    tf.keras.layers.Dense(64, activation=tf.nn.relu),\n",
        "    tf.keras.layers.Dense(32, activation=tf.nn.relu),\n",
        "    tf.keras.layers.Dropout(0.2),\n",
        "    tf.keras.layers.Dense(10)\n",
        "])\n",
        "model.compile(optimizer = 'adam', \n",
        "               loss = tf.keras.losses.SparseCategoricalCrossentropy(from_logits = True),\n",
        "               metrics = ['accuracy'])\n",
        "model.fit(x_train,y_train,epoach = 5)\n",
        "# model evaluation \n",
        "test_accuracy = model.evaluate(x_test, y_test, verbose = 3)\n",
        "print('Accurary on test dataset:', test_accuracy)\n"
      ],
      "execution_count": 21,
      "outputs": [
        {
          "output_type": "stream",
          "text": [
            "1875/1875 [==============================] - 4s 2ms/step - loss: 0.3198 - accuracy: 0.9058\n",
            "Accurary on test dataset: [0.14536866545677185, 0.9553999900817871]\n"
          ],
          "name": "stdout"
        }
      ]
    },
    {
      "cell_type": "code",
      "metadata": {
        "id": "0LN7JDnPbTFV",
        "colab_type": "code",
        "colab": {
          "base_uri": "https://localhost:8080/",
          "height": 51
        },
        "outputId": "a75233cc-4295-4782-94c0-de9975249d37"
      },
      "source": [
        " #model with 32 nodes\n",
        " model_32 = tf.keras.Sequential([\n",
        "    tf.keras.layers.Flatten(input_shape=(28, 28, 1)),\n",
        "    tf.keras.layers.Dense(32, activation=tf.nn.relu),\n",
        "    tf.keras.layers.Dropout(0.2),\n",
        "    tf.keras.layers.Dense(10)\n",
        "])\n",
        "model_32.compile(optimizer = 'adam', \n",
        "               loss = tf.keras.losses.SparseCategoricalCrossentropy(from_logits = True),\n",
        "               metrics = ['accuracy'])\n",
        "model_32.fit(x_train,y_train,epoach = 5)\n",
        "# model evaluation \n",
        "test_accuracy = model_32.evaluate(x_test, y_test, verbose = 3)\n",
        "print('Accurary on test dataset:', test_accuracy)\n",
        "\n"
      ],
      "execution_count": 22,
      "outputs": [
        {
          "output_type": "stream",
          "text": [
            "1875/1875 [==============================] - 3s 1ms/step - loss: 0.4638 - accuracy: 0.8639\n",
            "Accurary on test dataset: [0.21656596660614014, 0.9358000159263611]\n"
          ],
          "name": "stdout"
        }
      ]
    },
    {
      "cell_type": "markdown",
      "metadata": {
        "id": "r_mRjIYUfDXD",
        "colab_type": "text"
      },
      "source": [
        "The accuracy of one hiddlen layer is 94% whereas the accuracy of three hidden layers is 96%. "
      ]
    }
  ]
}